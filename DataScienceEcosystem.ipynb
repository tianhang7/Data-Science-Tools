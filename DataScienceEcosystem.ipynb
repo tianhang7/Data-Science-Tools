{
 "cells": [
  {
   "cell_type": "markdown",
   "id": "f4882924-975d-4871-8007-a4da4ad27bf5",
   "metadata": {},
   "source": [
    "# Data Science Tools and Ecosystem"
   ]
  },
  {
   "cell_type": "markdown",
   "id": "8f047072-3870-41c3-a8da-7d549be051dd",
   "metadata": {},
   "source": [
    "**In this notebook, Data Science Tools and Ecosystem are summarized.**\n"
   ]
  },
  {
   "cell_type": "markdown",
   "id": "29debbb4-3e89-47b5-9227-f29f6ca5521d",
   "metadata": {},
   "source": [
    "*Some of the popular languages that Data Scientists use are:*"
   ]
  },
  {
   "cell_type": "markdown",
   "id": "591952f9-da82-4034-b969-2b96e0731534",
   "metadata": {
    "tags": []
   },
   "source": [
    "1. python\n",
    "2. R\n",
    "3. java\n",
    "4. SQL\n",
    "5. Scala"
   ]
  },
  {
   "cell_type": "markdown",
   "id": "a64dd76a-a867-4a45-9f84-4a227d21130a",
   "metadata": {},
   "source": [
    "*Some of the commonly used libraries used by Data Scientists include:*"
   ]
  },
  {
   "cell_type": "markdown",
   "id": "282f262e-2a4e-4ca6-8611-8119a547bf87",
   "metadata": {},
   "source": [
    "1. Pandas\n",
    "2. Scipy\n",
    "3. NumPy\n",
    "4. Scikit-learn\n",
    "5. PyTorch"
   ]
  },
  {
   "cell_type": "markdown",
   "id": "1ee31b36-0a5b-4212-ada8-90c0230ad702",
   "metadata": {},
   "source": [
    "## Data Science Tools"
   ]
  },
  {
   "cell_type": "markdown",
   "id": "ef038659-8f90-4240-8f9c-6f34e6cb3306",
   "metadata": {},
   "source": [
    "|Data Science Tools|\n",
    "|------------------|\n",
    "|Apache Spark|\n",
    "|Tableau|\n",
    "|IBM SPSS|"
   ]
  },
  {
   "cell_type": "markdown",
   "id": "82fd5d01-8678-4a3a-b928-36fafcc28dc0",
   "metadata": {
    "tags": []
   },
   "source": [
    "### Below are a few examples of evaluating arithmetic expressions in Python"
   ]
  },
  {
   "cell_type": "markdown",
   "id": "4509a5c2-3659-44b2-b035-f2dbb5a9fc8c",
   "metadata": {
    "tags": []
   },
   "source": [
    "x+y = y+x"
   ]
  },
  {
   "cell_type": "markdown",
   "id": "f39e870f-9185-44ea-a1e5-60d17deaf04e",
   "metadata": {},
   "source": [
    "*This a simple arithmetic expression to mutiply then add integers*"
   ]
  },
  {
   "cell_type": "code",
   "execution_count": 5,
   "id": "b93e33e5-ca1f-4dde-8717-de3d22f79502",
   "metadata": {
    "tags": []
   },
   "outputs": [
    {
     "data": {
      "text/plain": [
       "17"
      ]
     },
     "execution_count": 5,
     "metadata": {},
     "output_type": "execute_result"
    }
   ],
   "source": [
    "(3*4)+5"
   ]
  },
  {
   "cell_type": "markdown",
   "id": "9fe4cca4-9276-4b81-8433-aeb43c6472de",
   "metadata": {},
   "source": [
    "*This will convert 200 minutes to hours by diving by 60*"
   ]
  },
  {
   "cell_type": "code",
   "execution_count": 6,
   "id": "89f699e3-bc6a-4ef3-ad7d-2ea02f8ac06f",
   "metadata": {
    "tags": []
   },
   "outputs": [
    {
     "data": {
      "text/plain": [
       "3.3333333333333335"
      ]
     },
     "execution_count": 6,
     "metadata": {},
     "output_type": "execute_result"
    }
   ],
   "source": [
    "200/60"
   ]
  },
  {
   "cell_type": "markdown",
   "id": "c1c8d370-442f-488d-a871-35a473002544",
   "metadata": {},
   "source": [
    "### List popular languages for Data Science"
   ]
  },
  {
   "cell_type": "markdown",
   "id": "8e1200f8-2213-4f80-bfb3-33d7ba5c7d7a",
   "metadata": {},
   "source": [
    "* python\n",
    "* R\n",
    "* SQL"
   ]
  },
  {
   "cell_type": "markdown",
   "id": "bb71c06e-c874-43d0-87f3-86327d78ab31",
   "metadata": {},
   "source": [
    "## Author"
   ]
  },
  {
   "cell_type": "markdown",
   "id": "304faaba-3719-4276-a43b-3819671d6e1e",
   "metadata": {},
   "source": [
    "Tianhang "
   ]
  },
  {
   "cell_type": "markdown",
   "id": "72aa9a98-79f4-4792-b87d-fd9dd34fde7f",
   "metadata": {},
   "source": [
    "[Here is Hyperlink to my GitHub](https://github.com/tianhang7/Data-Science-Tools.git)\n",
    "https://github.com/tianhang7/Data-Science-Tools.git"
   ]
  },
  {
   "cell_type": "code",
   "execution_count": null,
   "id": "5f4606f2-2174-4162-9ac5-0bec07294e3e",
   "metadata": {},
   "outputs": [],
   "source": []
  }
 ],
 "metadata": {
  "kernelspec": {
   "display_name": "Python",
   "language": "python",
   "name": "conda-env-python-py"
  },
  "language_info": {
   "codemirror_mode": {
    "name": "ipython",
    "version": 3
   },
   "file_extension": ".py",
   "mimetype": "text/x-python",
   "name": "python",
   "nbconvert_exporter": "python",
   "pygments_lexer": "ipython3",
   "version": "3.7.12"
  }
 },
 "nbformat": 4,
 "nbformat_minor": 5
}
